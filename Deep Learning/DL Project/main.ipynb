{
 "cells": [
  {
   "cell_type": "markdown",
   "metadata": {},
   "source": [
    "# Image Colorization using Autoencoder\n",
    "Deep Learning model written in Pytorch to convert gray scaled images into RGB/LAB images."
   ]
  },
  {
   "cell_type": "markdown",
   "metadata": {},
   "source": [
    "## Setup\n",
    "Import Libraries\n",
    "Convert images to grayscale and sort them for training"
   ]
  },
  {
   "cell_type": "code",
   "execution_count": null,
   "metadata": {},
   "outputs": [],
   "source": [
    "import torch\n",
    "from torchvision import transforms\n",
    "from torch.utils.data import Dataset, DataLoader\n",
    "import torch.nn as nn\n",
    "import torch.nn.functional as F\n",
    "import torch.optim as optim\n",
    "\n",
    "import os\n",
    "from PIL import Image\n",
    "import numpy as np\n",
    "from keras import layers\n",
    "\n",
    "import wandb\n",
    "import datetime\n",
    "import time\n",
    "import copy\n",
    "\n",
    "from tqdm import tqdm\n"
   ]
  },
  {
   "cell_type": "code",
   "execution_count": null,
   "metadata": {},
   "outputs": [],
   "source": [
    "# Define Input and Output folder for color transformation\n",
    "input_folder = './color_train/'\n",
    "output_folder = './gray_train/'\n",
    "original_bw_folder = './original_bw_images'\n",
    "num_img_to_process = 100"
   ]
  },
  {
   "cell_type": "markdown",
   "metadata": {},
   "source": [
    "## Load Functions"
   ]
  },
  {
   "cell_type": "code",
   "execution_count": null,
   "metadata": {},
   "outputs": [],
   "source": [
    "# Function to load and preprocess images\n",
    "def load_image(image_path, color_mode='rgb', target_size=(160, 160)):\n",
    "    # Load the image\n",
    "    image = Image.open(image_path)\n",
    "    \n",
    "    # Convert color mode if necessary\n",
    "    if color_mode == 'rgb':\n",
    "        image = image.convert('RGB')\n",
    "    elif color_mode == 'grayscale':\n",
    "        image = image.convert('L')\n",
    "    \n",
    "    # Resize the image\n",
    "    resize_transform = transforms.Resize(target_size)\n",
    "    image = resize_transform(image)\n",
    "    \n",
    "    # Convert to tensor and normalize\n",
    "    image = transforms.ToTensor()(image)  # Converts to [0, 1] range\n",
    "    if color_mode == 'rgb':\n",
    "        image = transforms.Normalize(mean=[0.0, 0.0, 0.0], std=[1.0, 1.0, 1.0])(image)  # Normalize\n",
    "    \n",
    "    # Ensure grayscale images are converted to RGB format\n",
    "    if color_mode == 'grayscale':\n",
    "        image = image.expand(3, -1, -1)\n",
    "    \n",
    "    return image"
   ]
  },
  {
   "cell_type": "markdown",
   "metadata": {},
   "source": [
    "## Defining Classes for sorting the input data"
   ]
  },
  {
   "cell_type": "code",
   "execution_count": null,
   "metadata": {},
   "outputs": [],
   "source": [
    "# Defining class of Image DataSet:\n",
    "class ImageDataset(Dataset):\n",
    "    def __init__(self, image_paths, color_mode='rgb', target_size=(160, 160)):\n",
    "        self.image_paths = image_paths\n",
    "        self.color_mode = color_mode\n",
    "        self.target_size = target_size\n",
    "\n",
    "    def __len__(self):\n",
    "        return len(self.image_paths)\n",
    "\n",
    "    def __getitem__(self, idx):\n",
    "        image_path = self.image_paths[idx]\n",
    "\n",
    "        # Open image to check if it matches the expected color mode\n",
    "        with Image.open(image_path) as img:\n",
    "            img_mode = img.mode\n",
    "            \n",
    "            if self.color_mode == 'grayscale' and img_mode != 'L':\n",
    "                print(f\"Warning: {image_path} is expected to be grayscale (mode 'L'), but it is {img_mode}.\")\n",
    "                warning_flag = True\n",
    "\n",
    "            elif self.color_mode == 'rgb' and img_mode != 'RGB':\n",
    "                print(f\"Warning: {image_path} is expected to be RGB (mode 'RGB'), but it is {img_mode}.\")\n",
    "                warning_flag = True\n",
    "            else:\n",
    "                warning_flag = False\n",
    "  \n",
    "        # Load the image using the desired color mode\n",
    "        image = load_image(image_path, color_mode=self.color_mode, target_size=self.target_size)\n",
    "\n",
    "        if warning_flag:\n",
    "            print(f\"Warning - Images located incorrectly: {image_path}\")\n",
    "\n",
    "        return image\n",
    "\n",
    "class PairedDataset(Dataset):\n",
    "    def __init__(self, grayscale_dataset, color_dataset):\n",
    "        assert len(grayscale_dataset) == len(color_dataset), \"Datasets must have the same length.\"\n",
    "        self.grayscale_dataset = grayscale_dataset\n",
    "        self.color_dataset = color_dataset\n",
    "\n",
    "    def __len__(self):\n",
    "        return len(self.grayscale_dataset)\n",
    "\n",
    "    def __getitem__(self, idx):\n",
    "        grayscale_image = self.grayscale_dataset[idx]\n",
    "        color_image = self.color_dataset[idx]\n",
    "        return grayscale_image, color_image"
   ]
  },
  {
   "cell_type": "markdown",
   "metadata": {},
   "source": [
    "## Preprocessing\n",
    "### Loading images\n",
    "Converting RGB images from input folder to grayscale images and saving them in output folder. \n",
    "Additionally, it filters out original grayscale images, saving it into \"original_bw_images\" folder to evaluate later on. (Ground truth unknown here)"
   ]
  },
  {
   "cell_type": "code",
   "execution_count": null,
   "metadata": {},
   "outputs": [
    {
     "name": "stdout",
     "output_type": "stream",
     "text": [
      "Collected 100 images in folder ./color_train/.\n",
      "Images converted into grayscale and saved in ./gray_train/.\n"
     ]
    }
   ],
   "source": [
    "\n",
    "# Create Output Folder if it does not exist yet\n",
    "os.makedirs(output_folder, exist_ok=True)\n",
    "os.makedirs(original_bw_folder, exist_ok=True)\n",
    "\n",
    "# Take num_img_to_process images to convert to grayscale\n",
    "input_all = os.listdir(input_folder)[:num_images]\n",
    "num_images = min(num_img_to_process, len(input_all))\n",
    "image_files = [f for f in input_all if f.endswith(('jpg', 'jpeg', 'png'))]\n",
    "\n",
    "\n",
    "print(f\"Collected {len(image_files)} images in folder {input_folder}.\")\n",
    "\n",
    "# Itera su ogni immagine, convertila in grayscale e salvala\n",
    "for image_file in image_files:\n",
    "    input_path = os.path.join(input_folder, image_file)\n",
    "    output_path = os.path.join(output_folder, image_file)\n",
    "    originals_path = os.path.join(original_bw_folder, image_file)\n",
    "    # Apri l'immagine e converti in grayscale\n",
    "    with Image.open(input_path) as img:\n",
    "        # Original Grayscale images in Coco Dataset:\n",
    "        if img.mode == 'L':\n",
    "            img.save(originals_path)\n",
    "            os.remove(input_path)\n",
    "            print(input_path)\n",
    "        else:\n",
    "            grayscale_img = img.convert(\"L\")  # Converti in grayscale\n",
    "            grayscale_img.save(output_path)\n",
    "\n",
    "print(f\"Images converted into grayscale and saved in {output_folder}.\")\n"
   ]
  },
  {
   "cell_type": "markdown",
   "metadata": {},
   "source": [
    "## Sorting and pairing dataset\n",
    "\n",
    "Sorting dataset to train and test on"
   ]
  },
  {
   "cell_type": "code",
   "execution_count": null,
   "metadata": {},
   "outputs": [
    {
     "name": "stdout",
     "output_type": "stream",
     "text": [
      "Number of pairs created: 3552\n",
      "train len: 3019, test len:532\n"
     ]
    }
   ],
   "source": [
    "# Define paths to rgb and gray scale images\n",
    "color_images_path = input_folder\n",
    "grayscale_images_path = output_folder\n",
    "\n",
    "# Get sorted lists of image file paths\n",
    "color_image_files = sorted([os.path.join(color_images_path, f) for f in os.listdir(color_images_path) if f.endswith(('jpg', 'png', 'jpeg'))])\n",
    "grayscale_image_files = sorted([os.path.join(grayscale_images_path, f) for f in os.listdir(grayscale_images_path) if f.endswith(('jpg', 'png', 'jpeg'))])\n",
    "\n",
    "# Ensure the filenames without paths are used for matching\n",
    "color_filenames = {os.path.basename(f): f for f in color_image_files}\n",
    "grayscale_filenames = {os.path.basename(f): f for f in grayscale_image_files}\n",
    "\n",
    "# Match pairs based on filenames\n",
    "paired_filenames = [(grayscale_filenames[f], color_filenames[f]) for f in grayscale_filenames if f in color_filenames]\n",
    "\n",
    "# Check if pairs were created correctly\n",
    "print(f\"Number of pairs created: {len(paired_filenames)}\")\n",
    "\n",
    "# Create a dataset from the paired filenames\n",
    "grayscale_paths, color_paths = zip(*paired_filenames)\n",
    "\n",
    "grayscale_paths = list(grayscale_paths)\n",
    "color_paths = list(color_paths)\n",
    "\n",
    "# Split the dataset into train and test sets (train = 85%, test = 15%)\n",
    "train_size  = int(len(grayscale_paths)*0.85)\n",
    "test_size = int(len(grayscale_paths)*0.15)\n",
    "print(f\"train len: {train_size}, test len:{test_size}\")\n",
    "\n",
    "train_grayscale_paths = grayscale_paths[:train_size]\n",
    "test_grayscale_paths = grayscale_paths[test_size:]\n",
    "\n",
    "train_color_paths = color_paths[:train_size]\n",
    "test_color_paths = color_paths[test_size:]\n",
    "\n",
    "# Creating datasets\n",
    "## train dataset\n",
    "train_grayscale_ds = ImageDataset(train_grayscale_paths, color_mode='grayscale')\n",
    "train_color_ds = ImageDataset(train_color_paths, color_mode='rgb')\n",
    "\n",
    "## test dataset\n",
    "test_grayscale_ds = ImageDataset(test_grayscale_paths, color_mode='grayscale')\n",
    "test_color_ds = ImageDataset(test_color_paths, color_mode='rgb')\n",
    "\n",
    "# Ensure there are no mix-ups in dataset - rgb/grayscale separation\n",
    "for idx in range(len(train_grayscale_ds)):\n",
    "    image = train_grayscale_ds[idx]\n",
    "\n",
    "for idx in range(len(train_color_ds)):\n",
    "    image = train_color_ds[idx] \n",
    "\n",
    "for idx in range(len(test_grayscale_ds)):\n",
    "    image = test_grayscale_ds[idx] \n",
    "\n",
    "for idx in range(len(test_color_ds)):\n",
    "    image = test_color_ds[idx]\n",
    "\n",
    "# Creating data loaders\n",
    "train_grayscale_loader = DataLoader(train_grayscale_ds, batch_size=32, shuffle=True, num_workers=4)\n",
    "train_color_loader = DataLoader(train_color_ds, batch_size=32, shuffle=True, num_workers=4)\n",
    "\n",
    "test_grayscale_loader = DataLoader(test_grayscale_ds, batch_size=32, shuffle=False, num_workers=4)\n",
    "test_color_loader = DataLoader(test_color_ds, batch_size=32, shuffle=False, num_workers=4)\n",
    "\n",
    "# Combine grayscale and color datasets into paired datasets\n",
    "train_dataset = PairedDataset(train_grayscale_ds, train_color_ds)\n",
    "test_dataset = PairedDataset(test_grayscale_ds, test_color_ds)\n",
    "\n",
    "# DataLoader configurations\n",
    "batch_size = 32\n",
    "train_loader = DataLoader(train_dataset, batch_size=batch_size, shuffle=True, num_workers=4)\n",
    "test_loader = DataLoader(test_dataset, batch_size=batch_size, shuffle=False, num_workers=4)\n",
    "\n",
    "# # Train the model using the train dataset\n",
    "# model.fit(train_dataset, epochs=50, validation_data=test_dataset)\n"
   ]
  }
 ],
 "metadata": {
  "language_info": {
   "name": "python"
  }
 },
 "nbformat": 4,
 "nbformat_minor": 2
}
